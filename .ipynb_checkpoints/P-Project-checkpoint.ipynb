{
 "cells": [
  {
   "cell_type": "code",
   "execution_count": 1,
   "id": "e4398428-4a68-475f-90fe-5a7ff3699b4b",
   "metadata": {},
   "outputs": [],
   "source": [
    "#first ever python project\n"
   ]
  },
  {
   "cell_type": "code",
   "execution_count": null,
   "id": "7d9dba45-d6eb-4de6-a4f1-ed69e9087d55",
   "metadata": {},
   "outputs": [],
   "source": []
  }
 ],
 "metadata": {
  "kernelspec": {
   "display_name": "Python [conda env:base] *",
   "language": "python",
   "name": "conda-base-py"
  },
  "language_info": {
   "codemirror_mode": {
    "name": "ipython",
    "version": 3
   },
   "file_extension": ".py",
   "mimetype": "text/x-python",
   "name": "python",
   "nbconvert_exporter": "python",
   "pygments_lexer": "ipython3",
   "version": "3.12.7"
  }
 },
 "nbformat": 4,
 "nbformat_minor": 5
}
